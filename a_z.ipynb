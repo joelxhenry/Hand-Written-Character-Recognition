{
  "cells": [
    {
      "cell_type": "code",
      "execution_count": null,
      "metadata": {
        "id": "a9BfpJZknq6z"
      },
      "outputs": [],
      "source": [
        "!pip install tensorflowjs"
      ]
    },
    {
      "cell_type": "code",
      "execution_count": null,
      "metadata": {
        "id": "SI_6QjvBSPk3"
      },
      "outputs": [],
      "source": [
        "import pandas as pd\n",
        "import numpy as np\n",
        "import tensorflow as tf\n",
        "import tensorflowjs as tfjs\n",
        "\n",
        "\n",
        "from sklearn.model_selection import train_test_split\n",
        "\n",
        "np.random.seed(5)\n",
        "seed = 5"
      ]
    },
    {
      "cell_type": "code",
      "execution_count": null,
      "metadata": {
        "id": "WunZU9KGSiPv"
      },
      "outputs": [],
      "source": [
        "dt = pd.read_csv(\"/content/A_Z Handwritten Data.csv\", delimiter=\",\")\n",
        "dt.shape"
      ]
    },
    {
      "cell_type": "code",
      "execution_count": null,
      "metadata": {
        "colab": {
          "base_uri": "https://localhost:8080/"
        },
        "id": "r14dka2sjQC5",
        "outputId": "d6409009-3363-4f80-962f-ee480c2e4c23"
      },
      "outputs": [
        {
          "output_type": "execute_result",
          "data": {
            "text/plain": [
              "(15000, 5)"
            ]
          },
          "metadata": {},
          "execution_count": 4
        }
      ],
      "source": [
        "dt = dt.dropna()\n",
        "dt.shape"
      ]
    },
    {
      "cell_type": "code",
      "execution_count": null,
      "metadata": {
        "id": "67PGZH4PcG2A"
      },
      "outputs": [],
      "source": [
        "\n",
        "check = dt[dt.keys()].isnull().values.any()\n",
        "check"
      ]
    },
    {
      "cell_type": "code",
      "execution_count": null,
      "metadata": {
        "id": "w3AVaD8XSlHU"
      },
      "outputs": [],
      "source": [
        "dt.shape"
      ]
    },
    {
      "cell_type": "code",
      "execution_count": null,
      "metadata": {
        "id": "Vpuo2R6GSnW2"
      },
      "outputs": [],
      "source": [
        "Y = [[1 if m == n else 0 for m in range(26)] for n in dt['0'].values]\n",
        "Y = np.array(Y)\n",
        "Y.shape"
      ]
    },
    {
      "cell_type": "code",
      "execution_count": null,
      "metadata": {
        "id": "jpEpgVbaSzMZ"
      },
      "outputs": [],
      "source": [
        "X = dt[dt.keys()[1:]].values\n",
        "X.shape"
      ]
    },
    {
      "cell_type": "code",
      "execution_count": null,
      "metadata": {
        "id": "6tNy_ibjRiCd"
      },
      "outputs": [],
      "source": [
        "X = X.reshape(len(X), 28, 28)\n",
        "X.shape"
      ]
    },
    {
      "cell_type": "code",
      "execution_count": null,
      "metadata": {
        "id": "7GGY-RVxS5ND"
      },
      "outputs": [],
      "source": [
        "import random\n",
        "import matplotlib.pyplot as plt\n",
        "\n",
        "picked_idx = random.randint(0, X.shape[0]-1)\n",
        "\n",
        "img = np.array(X[picked_idx])\n",
        "label = Y[picked_idx]\n",
        "\n",
        "plt.imshow(img)\n",
        "print('Label: ', label)"
      ]
    },
    {
      "cell_type": "code",
      "execution_count": null,
      "metadata": {
        "id": "uTKYsMzgS9KQ"
      },
      "outputs": [],
      "source": [
        "\n",
        "x_train, x_test, y_train, y_test = train_test_split(X,Y, test_size=0.2, random_state=seed) \n",
        "\n",
        "x_train.shape, x_test.shape, y_train.shape, y_test.shape"
      ]
    },
    {
      "cell_type": "code",
      "execution_count": null,
      "metadata": {
        "id": "uiJTvRAxTDz8"
      },
      "outputs": [],
      "source": [
        "x_test, x_train = x_test/255, x_train/255"
      ]
    },
    {
      "cell_type": "code",
      "execution_count": null,
      "metadata": {
        "id": "B7laHbABTErt"
      },
      "outputs": [],
      "source": [
        "model = tf.keras.Sequential()\n",
        "model.add(tf.keras.layers.Conv2D(28, (3,3), strides=(1,1), padding='valid', activation='relu', input_shape=(28,28,1)))\n",
        "model.add(tf.keras.layers.MaxPool2D())\n",
        "model.add(tf.keras.layers.Conv2D(28, (3,3), activation='relu'))\n",
        "model.add(tf.keras.layers.MaxPool2D())\n",
        "model.add(tf.keras.layers.Flatten())\n",
        "model.add(tf.keras.layers.Dense(12, activation='relu'))\n",
        "model.add(tf.keras.layers.Dense(8, activation='relu'))\n",
        "model.add(tf.keras.layers.Dense(26, activation='softmax'))\n",
        "\n",
        "model.compile(optimizer='adam', loss='binary_crossentropy', metrics=['accuracy'])"
      ]
    },
    {
      "cell_type": "code",
      "execution_count": null,
      "metadata": {
        "id": "eIOqhI8MTIKE"
      },
      "outputs": [],
      "source": [
        "model.output_shape, model.input_shape"
      ]
    },
    {
      "cell_type": "code",
      "execution_count": null,
      "metadata": {
        "id": "EvV6OtmGTWQ2"
      },
      "outputs": [],
      "source": [
        "history = model.fit(x_train, y_train, epochs = 8, batch_size=2)"
      ]
    },
    {
      "cell_type": "code",
      "execution_count": null,
      "metadata": {
        "id": "0GHSJOvpTafi"
      },
      "outputs": [],
      "source": [
        "import random\n",
        "import matplotlib.pyplot as plt\n",
        "\n",
        "plt.plot(history.history['accuracy'])\n",
        "plt.plot(history.history['loss'])"
      ]
    },
    {
      "cell_type": "code",
      "execution_count": null,
      "metadata": {
        "id": "hNw-tmHfTcbt"
      },
      "outputs": [],
      "source": [
        "out = model.evaluate(x_test, y_test)\n",
        "print('Accuracy {:.2f}%'.format(out[1]*100))"
      ]
    },
    {
      "cell_type": "code",
      "execution_count": null,
      "metadata": {
        "id": "oGuuPxLHTfli"
      },
      "outputs": [],
      "source": [
        "\n",
        "picked_idx = random.randint(0, x_test.shape[0]-1)\n",
        "\n",
        "img = np.array(x_test[picked_idx])\n",
        "label = y_test[picked_idx]\n",
        "\n",
        "plt.imshow(img.reshape(28,28))\n",
        "\n",
        "print('Label: ', label)\n",
        "p_label = model.predict(img.reshape(1,28,28,1))\n",
        "print('Predicted: ', [round(n) for n in p_label[0]])"
      ]
    },
    {
      "cell_type": "code",
      "execution_count": null,
      "metadata": {
        "id": "GDUzeXDeoB-6"
      },
      "outputs": [],
      "source": [
        "tfjs.converters.save_keras_model(model, '/content/a-zjsmodel')\n",
        "model.save('a-zpymodel')"
      ]
    }
  ],
  "metadata": {
    "colab": {
      "provenance": []
    },
    "kernelspec": {
      "display_name": "Python 3",
      "name": "python3"
    },
    "language_info": {
      "name": "python"
    }
  },
  "nbformat": 4,
  "nbformat_minor": 0
}